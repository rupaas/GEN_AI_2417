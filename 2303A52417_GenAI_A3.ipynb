{
  "nbformat": 4,
  "nbformat_minor": 0,
  "metadata": {
    "colab": {
      "provenance": [],
      "collapsed_sections": [
        "mG-4VDiM8mwB",
        "pMaGNjr-8_13",
        "B4ZRHoos9Ctw"
      ],
      "include_colab_link": true
    },
    "kernelspec": {
      "name": "python3",
      "display_name": "Python 3"
    },
    "language_info": {
      "name": "python"
    }
  },
  "cells": [
    {
      "cell_type": "markdown",
      "metadata": {
        "id": "view-in-github",
        "colab_type": "text"
      },
      "source": [
        "<a href=\"https://colab.research.google.com/github/rupaas/GEN_AI_2417/blob/main/2303A52417_GenAI_A3.ipynb\" target=\"_parent\"><img src=\"https://colab.research.google.com/assets/colab-badge.svg\" alt=\"Open In Colab\"/></a>"
      ]
    },
    {
      "cell_type": "markdown",
      "source": [
        "#1"
      ],
      "metadata": {
        "id": "mG-4VDiM8mwB"
      }
    },
    {
      "cell_type": "code",
      "source": [
        "import numpy as np"
      ],
      "metadata": {
        "id": "b1XZfV03csNg"
      },
      "execution_count": null,
      "outputs": []
    },
    {
      "cell_type": "code",
      "execution_count": null,
      "metadata": {
        "id": "ndIL2_sh0CTI"
      },
      "outputs": [],
      "source": [
        "#f(x) = 5x4 +3x2 +10\n"
      ]
    },
    {
      "cell_type": "code",
      "source": [
        "eta=0.001\n",
        "epochs=1000"
      ],
      "metadata": {
        "id": "dk0Ry6bb3_bu"
      },
      "execution_count": null,
      "outputs": []
    },
    {
      "cell_type": "code",
      "source": [
        "import random\n",
        "x = random.uniform(-10,10)\n",
        "print(x)"
      ],
      "metadata": {
        "colab": {
          "base_uri": "https://localhost:8080/"
        },
        "id": "obLgjTrW2BxY",
        "outputId": "cb56ad43-fbc6-45da-e258-c9c2186f087f"
      },
      "execution_count": null,
      "outputs": [
        {
          "output_type": "stream",
          "name": "stdout",
          "text": [
            "-4.273359563845284\n"
          ]
        }
      ]
    },
    {
      "cell_type": "code",
      "source": [
        "for i in range(epochs):\n",
        "  grad = 20*x**3 + 6*x\n",
        "  delx = -eta*grad\n",
        "  x=x+delx"
      ],
      "metadata": {
        "id": "ozmMSjic5ML7"
      },
      "execution_count": null,
      "outputs": []
    },
    {
      "cell_type": "code",
      "source": [
        "np.round(x)"
      ],
      "metadata": {
        "colab": {
          "base_uri": "https://localhost:8080/"
        },
        "id": "mt1sNOCt5z_r",
        "outputId": "0d5a8c02-71f6-43e6-8b51-d0d9efc12fa7"
      },
      "execution_count": null,
      "outputs": [
        {
          "output_type": "execute_result",
          "data": {
            "text/plain": [
              "-0.0"
            ]
          },
          "metadata": {},
          "execution_count": 284
        }
      ]
    },
    {
      "cell_type": "markdown",
      "source": [
        "#2"
      ],
      "metadata": {
        "id": "pMaGNjr-8_13"
      }
    },
    {
      "cell_type": "code",
      "source": [
        "#f(x) = 3x2 +5e−y +10\n",
        "import math"
      ],
      "metadata": {
        "id": "vHY7qy8D50_v"
      },
      "execution_count": null,
      "outputs": []
    },
    {
      "cell_type": "code",
      "source": [
        "eta=0.001\n",
        "epochs = 1000\n",
        "x=random.uniform(-10,10)\n",
        "y=random.uniform(-10,10)\n",
        "for i in range(epochs):\n",
        "  grad_x=6*x\n",
        "  grad_y=-5*math.exp(-y)\n",
        "  delx=-eta*grad_x\n",
        "  dely=-eta*grad_y\n",
        "  x=x+delx\n",
        "  y=y+dely"
      ],
      "metadata": {
        "id": "8o05nJ5m9LP_"
      },
      "execution_count": null,
      "outputs": []
    },
    {
      "cell_type": "code",
      "source": [
        "print(np.round(x))\n",
        "print(np.round(y))"
      ],
      "metadata": {
        "colab": {
          "base_uri": "https://localhost:8080/"
        },
        "id": "0iE17YVy82iU",
        "outputId": "67a5cef4-8fac-49a9-8edb-4a77d77244a8"
      },
      "execution_count": null,
      "outputs": [
        {
          "output_type": "stream",
          "name": "stdout",
          "text": [
            "0.0\n",
            "7.0\n"
          ]
        }
      ]
    },
    {
      "cell_type": "markdown",
      "source": [
        "#3"
      ],
      "metadata": {
        "id": "B4ZRHoos9Ctw"
      }
    },
    {
      "cell_type": "code",
      "source": [
        "#f(x) = 1/(1+e^-x)\n",
        "import math"
      ],
      "metadata": {
        "id": "NxaGUoDMBJVG"
      },
      "execution_count": null,
      "outputs": []
    },
    {
      "cell_type": "code",
      "source": [
        "eta=0.001\n",
        "epochs = 1000\n",
        "x=random.uniform(-10,10)\n",
        "for i in range(epochs):\n",
        "    z = 1 / (1 + math.exp(-x))\n",
        "    grad = z * (1 - z)\n",
        "    delx = -eta * grad\n",
        "    x = x + delx\n"
      ],
      "metadata": {
        "id": "uz36g4OoBJVH"
      },
      "execution_count": null,
      "outputs": []
    },
    {
      "cell_type": "code",
      "source": [
        "print(np.round(x))\n"
      ],
      "metadata": {
        "colab": {
          "base_uri": "https://localhost:8080/"
        },
        "outputId": "fb3475ae-bbe2-4d1e-ac7c-9c8c25ba0ff8",
        "id": "iwXvtnE8BJVH"
      },
      "execution_count": null,
      "outputs": [
        {
          "output_type": "stream",
          "name": "stdout",
          "text": [
            "5.0\n"
          ]
        }
      ]
    },
    {
      "cell_type": "markdown",
      "source": [
        "#4"
      ],
      "metadata": {
        "id": "vXn1E1ZjNlrA"
      }
    },
    {
      "cell_type": "code",
      "source": [
        "# y= mx+c"
      ],
      "metadata": {
        "id": "ukoLbvjkOWv9"
      },
      "execution_count": null,
      "outputs": []
    },
    {
      "cell_type": "code",
      "source": [
        "eta=0.001\n",
        "epochs = 1000\n",
        "m=random.uniform(-10,10)\n",
        "c=random.uniform(-10,10)\n",
        "x=2\n",
        "ep=0.5\n",
        "se=0"
      ],
      "metadata": {
        "id": "Shi66iujO3yi"
      },
      "execution_count": null,
      "outputs": []
    },
    {
      "cell_type": "code",
      "source": [
        "for i in range(epochs):\n",
        "  grad_x=x\n",
        "  grad_y=1\n",
        "  delx=-eta*grad_x\n",
        "  dely=-eta*grad_y\n",
        "  m=m+delx\n",
        "  c=c+dely\n",
        "  y=m*x+c\n",
        "  se=min(se,(y-ep)**2)"
      ],
      "metadata": {
        "id": "oSOBVV9mOWv-"
      },
      "execution_count": null,
      "outputs": []
    },
    {
      "cell_type": "code",
      "source": [
        "print(np.round(m))\n",
        "print(np.round(c))"
      ],
      "metadata": {
        "colab": {
          "base_uri": "https://localhost:8080/"
        },
        "outputId": "8e914f95-9732-4cff-d311-4e8e8108a9bc",
        "id": "hYT_9ysSOWv-"
      },
      "execution_count": null,
      "outputs": [
        {
          "output_type": "stream",
          "name": "stdout",
          "text": [
            "4.0\n",
            "2.0\n"
          ]
        }
      ]
    },
    {
      "cell_type": "code",
      "source": [
        "print(se)"
      ],
      "metadata": {
        "colab": {
          "base_uri": "https://localhost:8080/"
        },
        "id": "pz7yg8p7PUqy",
        "outputId": "fa96816b-666b-4be3-f313-e439353e2dae"
      },
      "execution_count": null,
      "outputs": [
        {
          "output_type": "stream",
          "name": "stdout",
          "text": [
            "0\n"
          ]
        }
      ]
    },
    {
      "cell_type": "code",
      "source": [],
      "metadata": {
        "id": "4NpncPhXYTh7"
      },
      "execution_count": null,
      "outputs": []
    }
  ]
}
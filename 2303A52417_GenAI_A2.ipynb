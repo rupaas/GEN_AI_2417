{
  "nbformat": 4,
  "nbformat_minor": 0,
  "metadata": {
    "colab": {
      "provenance": [],
      "include_colab_link": true
    },
    "kernelspec": {
      "name": "python3",
      "display_name": "Python 3"
    },
    "language_info": {
      "name": "python"
    }
  },
  "cells": [
    {
      "cell_type": "markdown",
      "metadata": {
        "id": "view-in-github",
        "colab_type": "text"
      },
      "source": [
        "<a href=\"https://colab.research.google.com/github/rupaas/GEN_AI_2417/blob/main/2303A52417_GenAI_A2.ipynb\" target=\"_parent\"><img src=\"https://colab.research.google.com/assets/colab-badge.svg\" alt=\"Open In Colab\"/></a>"
      ]
    },
    {
      "cell_type": "markdown",
      "source": [
        "#Question - 1\n",
        "<p>Consider a chocolate manufacturing company that produces two\n",
        "types of chocolate i.e. A and B. Both the chocolates requires Milk and Choco only.\n",
        "To manufacture each unit of A and B, the following quantities are\n",
        "required:\n",
        "Each unit of A requires 1 unit of Milk and 3 units of Choco\n",
        "Each unit of B requires 1 unit of Milk and 2 units of Choco\n",
        "The company kitchen has a total of 5 units of Milk and 12 units of\n",
        "Choco. On each sale, the company makes a profit of Rs 6 per unit A\n",
        "sold and Rs 5 per unit B sold.\n",
        "Now, the company wishes to maximize its profit. How many units of\n",
        "A and B should it produce respectively?</p>"
      ],
      "metadata": {
        "id": "nlaEjSTzLELM"
      }
    },
    {
      "cell_type": "markdown",
      "source": [
        "##without libraries"
      ],
      "metadata": {
        "id": "b-X9X7HLM8hv"
      }
    },
    {
      "cell_type": "code",
      "source": [
        "import numpy as np"
      ],
      "metadata": {
        "id": "ZyEy6C0pM3Ve"
      },
      "execution_count": null,
      "outputs": []
    },
    {
      "cell_type": "code",
      "source": [
        "max_profit=0\n",
        "optimal_x=0\n",
        "optimal_y=0\n",
        "\n",
        "for x in range(10):\n",
        "    for y in range(10):\n",
        "        if x + y == 5 or 3 * x + 2 * y == 12:\n",
        "            if x + y <= 5 and 3 * x + 2 * y <= 12:\n",
        "                profit = 6 * x + 5 * y\n",
        "                if profit > max_profit:\n",
        "                    max_profit = profit\n",
        "                    optimal_x = x\n",
        "                    optimal_y = y\n",
        "print(\"Optimal number of units for A:\", optimal_x)\n",
        "print(\"Optimal number of units for B:\", optimal_y)\n",
        "print(\"Maximum profit:\", max_profit)"
      ],
      "metadata": {
        "colab": {
          "base_uri": "https://localhost:8080/"
        },
        "id": "aoZZtQ2qPXIp",
        "outputId": "7302c867-b266-422b-a83d-ab7472cae89b"
      },
      "execution_count": null,
      "outputs": [
        {
          "output_type": "stream",
          "name": "stdout",
          "text": [
            "Optimal number of units for A: 2\n",
            "Optimal number of units for B: 3\n",
            "Maximum profit: 27\n"
          ]
        }
      ]
    },
    {
      "cell_type": "markdown",
      "source": [
        "##With libraries"
      ],
      "metadata": {
        "id": "8H2F7uavM4Ab"
      }
    },
    {
      "cell_type": "code",
      "source": [
        "from scipy.optimize import linprog\n",
        "import numpy as np"
      ],
      "metadata": {
        "id": "MWjUNtrkLyTk"
      },
      "execution_count": null,
      "outputs": []
    },
    {
      "cell_type": "code",
      "source": [
        "c = [-6, -5]\n",
        "A = [[1, 1], [3, 2]]\n",
        "b = [5, 12]\n",
        "x_bounds = (0, None)\n",
        "y_bounds = (0, None)\n",
        "bounds = [x_bounds, y_bounds]\n"
      ],
      "metadata": {
        "id": "_O5lRErALzN3"
      },
      "execution_count": null,
      "outputs": []
    },
    {
      "cell_type": "code",
      "source": [
        "result = linprog(c, A_ub=A, b_ub=b, bounds=bounds, method=\"highs\")\n",
        "optimal_x, optimal_y = result.x\n",
        "max_profit = -result.fun"
      ],
      "metadata": {
        "id": "i31V7-e7MfyK"
      },
      "execution_count": null,
      "outputs": []
    },
    {
      "cell_type": "code",
      "source": [],
      "metadata": {
        "id": "61DEtiScMlU4"
      },
      "execution_count": null,
      "outputs": []
    },
    {
      "cell_type": "code",
      "source": [
        "print(\"\\nOptimal Solution:\")\n",
        "print(f\"Optimal number of units for A: {optimal_x:.2f}\")\n",
        "print(f\"Optimal number of units for B: {optimal_y:.2f}\")\n",
        "print(f\"Maximum profit: Rs {max_profit:.2f}\")\n"
      ],
      "metadata": {
        "colab": {
          "base_uri": "https://localhost:8080/"
        },
        "id": "hyBVCL43MnLF",
        "outputId": "ffc4bca2-c6e3-4ae1-f22a-7b548f32618f"
      },
      "execution_count": null,
      "outputs": [
        {
          "output_type": "stream",
          "name": "stdout",
          "text": [
            "\n",
            "Optimal Solution:\n",
            "Optimal number of units for A: 2.00\n",
            "Optimal number of units for B: 3.00\n",
            "Maximum profit: Rs 27.00\n"
          ]
        }
      ]
    },
    {
      "cell_type": "code",
      "source": [],
      "metadata": {
        "id": "Sk6Tf0JRMo1z"
      },
      "execution_count": null,
      "outputs": []
    },
    {
      "cell_type": "markdown",
      "source": [
        "#Question-2\n",
        "<p>A farmer has recently acquired a 110 hectares piece of land. Hs has\n",
        "decided to grow Wheat and barley on that land. Due to the quality\n",
        "of the sun and the region's excellent climate, the entire production of\n",
        "Wheat and Barley can be sold. He wants to know how to plant each\n",
        "variety in the 110 hectares, given the costs, net profits and labor\n",
        "requirements according to the data shown below:\n",
        "Wheat cost=7000 Profit = 50 Man-days=10\n",
        "Barley cost = 2000 Profit 120 Man-days 30\n",
        "The farmer has a budget of Rs. and availability of 1,200\n",
        "man-days during the planning horizon. Find the optimal solution a\n",
        "the optimal value.</p>"
      ],
      "metadata": {
        "id": "SqFFXpNIOVN9"
      }
    },
    {
      "cell_type": "markdown",
      "source": [
        "##without libraries"
      ],
      "metadata": {
        "id": "yNNru_pgZyzd"
      }
    },
    {
      "cell_type": "code",
      "source": [
        "max_profit=0\n",
        "optimal_x=0\n",
        "optimal_y=0\n",
        "for x in range(111):\n",
        "    for y in range(111):\n",
        "        if x + y == 110 or 7000 * x + 2000 * y == 700000 or 10 * x + 30 * y == 1200:\n",
        "            if x + y <= 110 and 7000 * x + 2000 * y <= 700000 and 10 * x + 30 * y <= 1200:\n",
        "                profit = 50 * x + 120 * y\n",
        "                if profit > max_profit:\n",
        "                    max_profit = profit\n",
        "                    optimal_x = x\n",
        "                    optimal_y = y"
      ],
      "metadata": {
        "id": "wsg8iF0uZyfH"
      },
      "execution_count": null,
      "outputs": []
    },
    {
      "cell_type": "code",
      "source": [
        "print(\"Optimal number of hectares for Wheat:\", optimal_x)\n",
        "print(\"Optimal number of hectares for Barley:\", optimal_y)\n",
        "print(\"Maximum profit:\", max_profit)"
      ],
      "metadata": {
        "colab": {
          "base_uri": "https://localhost:8080/"
        },
        "id": "Ya9XPrdjaZI_",
        "outputId": "58b3af18-6490-41b7-c4e5-6c991edc996e"
      },
      "execution_count": null,
      "outputs": [
        {
          "output_type": "stream",
          "name": "stdout",
          "text": [
            "Optimal number of hectares for Wheat: 96\n",
            "Optimal number of hectares for Barley: 8\n",
            "Maximum profit: 5760\n"
          ]
        }
      ]
    },
    {
      "cell_type": "markdown",
      "source": [
        "##with libaraies"
      ],
      "metadata": {
        "id": "81uhFRxvZuZe"
      }
    },
    {
      "cell_type": "code",
      "source": [
        "from scipy.optimize import linprog\n",
        "import numpy as np"
      ],
      "metadata": {
        "id": "kFeAROJrIzqH"
      },
      "execution_count": null,
      "outputs": []
    },
    {
      "cell_type": "code",
      "source": [
        "c = [-50, -120]\n",
        "A = [[1, 1], [7000,2000],[10,30]]\n",
        "b = [110,700000,1200]\n",
        "x_bounds = (0, None)\n",
        "y_bounds = (0, None)\n",
        "bounds = [x_bounds, y_bounds]\n"
      ],
      "metadata": {
        "id": "lfkdNC9ZIzqI"
      },
      "execution_count": null,
      "outputs": []
    },
    {
      "cell_type": "code",
      "source": [
        "result = linprog(c, A_ub=A, b_ub=b, bounds=bounds, method=\"highs\")\n",
        "optimal_x, optimal_y = result.x\n",
        "max_profit = -result.fun"
      ],
      "metadata": {
        "id": "Rc3Bi8rKIzqI"
      },
      "execution_count": null,
      "outputs": []
    },
    {
      "cell_type": "code",
      "source": [
        "print(\"\\nOptimal Solution:\")\n",
        "print(f\"Optimal number of units for A: {np.round(optimal_x)}\")\n",
        "print(f\"Optimal number of units for B: {np.round(optimal_y)}\")\n",
        "print(f\"Maximum profit: Rs {np.round(max_profit)}\")"
      ],
      "metadata": {
        "colab": {
          "base_uri": "https://localhost:8080/"
        },
        "outputId": "0f1b3f74-b0d5-4eab-e907-529fea7992ac",
        "id": "Nf8JQuj8IzqJ"
      },
      "execution_count": null,
      "outputs": [
        {
          "output_type": "stream",
          "name": "stdout",
          "text": [
            "\n",
            "Optimal Solution:\n",
            "Optimal number of units for A: 98.0\n",
            "Optimal number of units for B: 7.0\n",
            "Maximum profit: Rs 5779.0\n"
          ]
        }
      ]
    },
    {
      "cell_type": "code",
      "source": [],
      "metadata": {
        "id": "khRH4127IzqJ"
      },
      "execution_count": null,
      "outputs": []
    },
    {
      "cell_type": "code",
      "source": [],
      "metadata": {
        "id": "NCwBecd9eojW"
      },
      "execution_count": null,
      "outputs": []
    }
  ]
}